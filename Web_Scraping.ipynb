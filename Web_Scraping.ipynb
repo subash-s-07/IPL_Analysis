{
 "cells": [
  {
   "cell_type": "code",
   "execution_count": 18,
   "metadata": {},
   "outputs": [],
   "source": [
    "from bs4 import *\n",
    "import requests as rq\n",
    "import openpyxl\n",
    "import pandas as pd\n",
    "from csv import writer"
   ]
  },
  {
   "cell_type": "code",
   "execution_count": 2,
   "metadata": {},
   "outputs": [],
   "source": [
    "response=rq.get(\"https://www.espncricinfo.com//cricketers/ms-dhoni-28081\")\n",
    "soup=BeautifulSoup(response.text,'html.parser')"
   ]
  },
  {
   "cell_type": "code",
   "execution_count": 3,
   "metadata": {},
   "outputs": [
    {
     "data": {
      "text/plain": [
       "<table class=\"ds-w-full ds-table ds-table-md ds-table-bordered ds-border-collapse ds-border ds-border-line ds-table-auto ds-overflow-scroll\"><thead class=\"ds-bg-fill-content-alternate ds-text-left ds-text-right\"><tr class=\"\"><th class=\"ds-min-w-max ds-text-left\">Format</th><th class=\"ds-w-0 ds-whitespace-nowrap ds-min-w-max\">Mat</th><th class=\"ds-w-0 ds-whitespace-nowrap ds-min-w-max\">Inns</th><th class=\"ds-w-0 ds-whitespace-nowrap ds-min-w-max\">Balls</th><th class=\"ds-w-0 ds-whitespace-nowrap ds-min-w-max\">Runs</th><th class=\"ds-w-0 ds-whitespace-nowrap ds-min-w-max\">Wkts</th><th class=\"ds-w-0 ds-whitespace-nowrap ds-min-w-max\">BBI</th><th class=\"ds-w-0 ds-whitespace-nowrap ds-min-w-max\">BBM</th><th class=\"ds-w-0 ds-whitespace-nowrap ds-min-w-max\">Ave</th><th class=\"ds-w-0 ds-whitespace-nowrap ds-min-w-max\">Econ</th><th class=\"ds-w-0 ds-whitespace-nowrap ds-min-w-max\">SR</th><th class=\"ds-w-0 ds-whitespace-nowrap ds-min-w-max\">4w</th><th class=\"ds-w-0 ds-whitespace-nowrap ds-min-w-max\">5w</th><th class=\"ds-w-0 ds-whitespace-nowrap ds-min-w-max\">10w</th></tr></thead><tbody class=\"\"><tr class=\"\"><td class=\"ds-min-w-max ds-text-right ds-capitalize ds-font-bold !ds-text-left ds-whitespace-nowrap\"><span class=\"out-padding\">Test</span></td><td class=\"ds-w-0 ds-whitespace-nowrap ds-min-w-max ds-text-right ds-capitalize ds-text-right\"><span class=\"out-padding\">90</span></td><td class=\"ds-w-0 ds-whitespace-nowrap ds-min-w-max ds-text-right ds-capitalize ds-text-right\"><span class=\"out-padding\">7</span></td><td class=\"ds-w-0 ds-whitespace-nowrap ds-min-w-max ds-text-right ds-capitalize ds-text-right\"><span class=\"out-padding\">96</span></td><td class=\"ds-w-0 ds-whitespace-nowrap ds-min-w-max ds-text-right ds-capitalize ds-text-right\"><span class=\"out-padding\">67</span></td><td class=\"ds-w-0 ds-whitespace-nowrap ds-min-w-max ds-text-right ds-capitalize ds-text-right ds-font-bold\"><span class=\"out-padding\">0</span></td><td class=\"ds-w-0 ds-whitespace-nowrap ds-min-w-max ds-text-right ds-capitalize ds-text-right\"><span class=\"out-padding\">-</span></td><td class=\"ds-w-0 ds-whitespace-nowrap ds-min-w-max ds-text-right ds-capitalize ds-text-right\"><span class=\"out-padding\">-</span></td><td class=\"ds-w-0 ds-whitespace-nowrap ds-min-w-max ds-text-right ds-capitalize ds-text-right\"><span class=\"out-padding\">-</span></td><td class=\"ds-w-0 ds-whitespace-nowrap ds-min-w-max ds-text-right ds-capitalize ds-text-right\"><span class=\"out-padding\">4.18</span></td><td class=\"ds-w-0 ds-whitespace-nowrap ds-min-w-max ds-text-right ds-capitalize ds-text-right\"><span class=\"out-padding\">-</span></td><td class=\"ds-w-0 ds-whitespace-nowrap ds-min-w-max ds-text-right ds-capitalize ds-text-right\"><span class=\"out-padding\">0</span></td><td class=\"ds-w-0 ds-whitespace-nowrap ds-min-w-max ds-text-right ds-capitalize ds-text-right\"><span class=\"out-padding\">0</span></td><td class=\"ds-w-0 ds-whitespace-nowrap ds-min-w-max ds-text-right ds-capitalize ds-text-right\"><span class=\"out-padding\">0</span></td></tr><tr class=\"\"><td class=\"ds-min-w-max ds-text-right ds-capitalize ds-font-bold !ds-text-left ds-whitespace-nowrap\"><span class=\"out-padding\">ODI</span></td><td class=\"ds-w-0 ds-whitespace-nowrap ds-min-w-max ds-text-right ds-capitalize ds-text-right\"><span class=\"out-padding\">350</span></td><td class=\"ds-w-0 ds-whitespace-nowrap ds-min-w-max ds-text-right ds-capitalize ds-text-right\"><span class=\"out-padding\">2</span></td><td class=\"ds-w-0 ds-whitespace-nowrap ds-min-w-max ds-text-right ds-capitalize ds-text-right\"><span class=\"out-padding\">36</span></td><td class=\"ds-w-0 ds-whitespace-nowrap ds-min-w-max ds-text-right ds-capitalize ds-text-right\"><span class=\"out-padding\">31</span></td><td class=\"ds-w-0 ds-whitespace-nowrap ds-min-w-max ds-text-right ds-capitalize ds-text-right ds-font-bold\"><span class=\"out-padding\">1</span></td><td class=\"ds-w-0 ds-whitespace-nowrap ds-min-w-max ds-text-right ds-capitalize ds-text-right\"><span class=\"out-padding\">1/14</span></td><td class=\"ds-w-0 ds-whitespace-nowrap ds-min-w-max ds-text-right ds-capitalize ds-text-right\"><span class=\"out-padding\">1/14</span></td><td class=\"ds-w-0 ds-whitespace-nowrap ds-min-w-max ds-text-right ds-capitalize ds-text-right\"><span class=\"out-padding\">31.00</span></td><td class=\"ds-w-0 ds-whitespace-nowrap ds-min-w-max ds-text-right ds-capitalize ds-text-right\"><span class=\"out-padding\">5.16</span></td><td class=\"ds-w-0 ds-whitespace-nowrap ds-min-w-max ds-text-right ds-capitalize ds-text-right\"><span class=\"out-padding\">36.0</span></td><td class=\"ds-w-0 ds-whitespace-nowrap ds-min-w-max ds-text-right ds-capitalize ds-text-right\"><span class=\"out-padding\">0</span></td><td class=\"ds-w-0 ds-whitespace-nowrap ds-min-w-max ds-text-right ds-capitalize ds-text-right\"><span class=\"out-padding\">0</span></td><td class=\"ds-w-0 ds-whitespace-nowrap ds-min-w-max ds-text-right ds-capitalize ds-text-right\"><span class=\"out-padding\">0</span></td></tr><tr class=\"\"><td class=\"ds-min-w-max ds-text-right ds-capitalize ds-font-bold !ds-text-left ds-whitespace-nowrap\"><span class=\"out-padding\">T20I</span></td><td class=\"ds-w-0 ds-whitespace-nowrap ds-min-w-max ds-text-right ds-capitalize ds-text-right\"><span class=\"out-padding\">98</span></td><td class=\"ds-w-0 ds-whitespace-nowrap ds-min-w-max ds-text-right ds-capitalize ds-text-right\"><span class=\"out-padding\">-</span></td><td class=\"ds-w-0 ds-whitespace-nowrap ds-min-w-max ds-text-right ds-capitalize ds-text-right\"><span class=\"out-padding\">-</span></td><td class=\"ds-w-0 ds-whitespace-nowrap ds-min-w-max ds-text-right ds-capitalize ds-text-right\"><span class=\"out-padding\">-</span></td><td class=\"ds-w-0 ds-whitespace-nowrap ds-min-w-max ds-text-right ds-capitalize ds-text-right ds-font-bold\"><span class=\"out-padding\">-</span></td><td class=\"ds-w-0 ds-whitespace-nowrap ds-min-w-max ds-text-right ds-capitalize ds-text-right\"><span class=\"out-padding\">-</span></td><td class=\"ds-w-0 ds-whitespace-nowrap ds-min-w-max ds-text-right ds-capitalize ds-text-right\"><span class=\"out-padding\">-</span></td><td class=\"ds-w-0 ds-whitespace-nowrap ds-min-w-max ds-text-right ds-capitalize ds-text-right\"><span class=\"out-padding\">-</span></td><td class=\"ds-w-0 ds-whitespace-nowrap ds-min-w-max ds-text-right ds-capitalize ds-text-right\"><span class=\"out-padding\">-</span></td><td class=\"ds-w-0 ds-whitespace-nowrap ds-min-w-max ds-text-right ds-capitalize ds-text-right\"><span class=\"out-padding\">-</span></td><td class=\"ds-w-0 ds-whitespace-nowrap ds-min-w-max ds-text-right ds-capitalize ds-text-right\"><span class=\"out-padding\">-</span></td><td class=\"ds-w-0 ds-whitespace-nowrap ds-min-w-max ds-text-right ds-capitalize ds-text-right\"><span class=\"out-padding\">-</span></td><td class=\"ds-w-0 ds-whitespace-nowrap ds-min-w-max ds-text-right ds-capitalize ds-text-right\"><span class=\"out-padding\">-</span></td></tr><tr class=\"\"><td class=\"ds-min-w-max ds-text-right ds-capitalize ds-font-bold !ds-text-left ds-whitespace-nowrap\"><span class=\"out-padding\">FC</span></td><td class=\"ds-w-0 ds-whitespace-nowrap ds-min-w-max ds-text-right ds-capitalize ds-text-right\"><span class=\"out-padding\">131</span></td><td class=\"ds-w-0 ds-whitespace-nowrap ds-min-w-max ds-text-right ds-capitalize ds-text-right\"><span class=\"out-padding\">-</span></td><td class=\"ds-w-0 ds-whitespace-nowrap ds-min-w-max ds-text-right ds-capitalize ds-text-right\"><span class=\"out-padding\">126</span></td><td class=\"ds-w-0 ds-whitespace-nowrap ds-min-w-max ds-text-right ds-capitalize ds-text-right\"><span class=\"out-padding\">87</span></td><td class=\"ds-w-0 ds-whitespace-nowrap ds-min-w-max ds-text-right ds-capitalize ds-text-right ds-font-bold\"><span class=\"out-padding\">0</span></td><td class=\"ds-w-0 ds-whitespace-nowrap ds-min-w-max ds-text-right ds-capitalize ds-text-right\"><span class=\"out-padding\">-</span></td><td class=\"ds-w-0 ds-whitespace-nowrap ds-min-w-max ds-text-right ds-capitalize ds-text-right\"><span class=\"out-padding\">-</span></td><td class=\"ds-w-0 ds-whitespace-nowrap ds-min-w-max ds-text-right ds-capitalize ds-text-right\"><span class=\"out-padding\">-</span></td><td class=\"ds-w-0 ds-whitespace-nowrap ds-min-w-max ds-text-right ds-capitalize ds-text-right\"><span class=\"out-padding\">4.14</span></td><td class=\"ds-w-0 ds-whitespace-nowrap ds-min-w-max ds-text-right ds-capitalize ds-text-right\"><span class=\"out-padding\">-</span></td><td class=\"ds-w-0 ds-whitespace-nowrap ds-min-w-max ds-text-right ds-capitalize ds-text-right\"><span class=\"out-padding\">0</span></td><td class=\"ds-w-0 ds-whitespace-nowrap ds-min-w-max ds-text-right ds-capitalize ds-text-right\"><span class=\"out-padding\">0</span></td><td class=\"ds-w-0 ds-whitespace-nowrap ds-min-w-max ds-text-right ds-capitalize ds-text-right\"><span class=\"out-padding\">0</span></td></tr><tr class=\"\"><td class=\"ds-min-w-max ds-text-right ds-capitalize ds-font-bold !ds-text-left ds-whitespace-nowrap\"><span class=\"out-padding\">List A</span></td><td class=\"ds-w-0 ds-whitespace-nowrap ds-min-w-max ds-text-right ds-capitalize ds-text-right\"><span class=\"out-padding\">423</span></td><td class=\"ds-w-0 ds-whitespace-nowrap ds-min-w-max ds-text-right ds-capitalize ds-text-right\"><span class=\"out-padding\">-</span></td><td class=\"ds-w-0 ds-whitespace-nowrap ds-min-w-max ds-text-right ds-capitalize ds-text-right\"><span class=\"out-padding\">63</span></td><td class=\"ds-w-0 ds-whitespace-nowrap ds-min-w-max ds-text-right ds-capitalize ds-text-right\"><span class=\"out-padding\">53</span></td><td class=\"ds-w-0 ds-whitespace-nowrap ds-min-w-max ds-text-right ds-capitalize ds-text-right ds-font-bold\"><span class=\"out-padding\">2</span></td><td class=\"ds-w-0 ds-whitespace-nowrap ds-min-w-max ds-text-right ds-capitalize ds-text-right\"><span class=\"out-padding\">1/14</span></td><td class=\"ds-w-0 ds-whitespace-nowrap ds-min-w-max ds-text-right ds-capitalize ds-text-right\"><span class=\"out-padding\">1/14</span></td><td class=\"ds-w-0 ds-whitespace-nowrap ds-min-w-max ds-text-right ds-capitalize ds-text-right\"><span class=\"out-padding\">26.50</span></td><td class=\"ds-w-0 ds-whitespace-nowrap ds-min-w-max ds-text-right ds-capitalize ds-text-right\"><span class=\"out-padding\">5.04</span></td><td class=\"ds-w-0 ds-whitespace-nowrap ds-min-w-max ds-text-right ds-capitalize ds-text-right\"><span class=\"out-padding\">31.5</span></td><td class=\"ds-w-0 ds-whitespace-nowrap ds-min-w-max ds-text-right ds-capitalize ds-text-right\"><span class=\"out-padding\">0</span></td><td class=\"ds-w-0 ds-whitespace-nowrap ds-min-w-max ds-text-right ds-capitalize ds-text-right\"><span class=\"out-padding\">0</span></td><td class=\"ds-w-0 ds-whitespace-nowrap ds-min-w-max ds-text-right ds-capitalize ds-text-right\"><span class=\"out-padding\">0</span></td></tr><tr class=\"\"><td class=\"ds-min-w-max ds-text-right ds-capitalize ds-font-bold !ds-text-left ds-whitespace-nowrap\"><span class=\"out-padding\">T20</span></td><td class=\"ds-w-0 ds-whitespace-nowrap ds-min-w-max ds-text-right ds-capitalize ds-text-right\"><span class=\"out-padding\">361</span></td><td class=\"ds-w-0 ds-whitespace-nowrap ds-min-w-max ds-text-right ds-capitalize ds-text-right\"><span class=\"out-padding\">1</span></td><td class=\"ds-w-0 ds-whitespace-nowrap ds-min-w-max ds-text-right ds-capitalize ds-text-right\"><span class=\"out-padding\">12</span></td><td class=\"ds-w-0 ds-whitespace-nowrap ds-min-w-max ds-text-right ds-capitalize ds-text-right\"><span class=\"out-padding\">25</span></td><td class=\"ds-w-0 ds-whitespace-nowrap ds-min-w-max ds-text-right ds-capitalize ds-text-right ds-font-bold\"><span class=\"out-padding\">0</span></td><td class=\"ds-w-0 ds-whitespace-nowrap ds-min-w-max ds-text-right ds-capitalize ds-text-right\"><span class=\"out-padding\">-</span></td><td class=\"ds-w-0 ds-whitespace-nowrap ds-min-w-max ds-text-right ds-capitalize ds-text-right\"><span class=\"out-padding\">-</span></td><td class=\"ds-w-0 ds-whitespace-nowrap ds-min-w-max ds-text-right ds-capitalize ds-text-right\"><span class=\"out-padding\">-</span></td><td class=\"ds-w-0 ds-whitespace-nowrap ds-min-w-max ds-text-right ds-capitalize ds-text-right\"><span class=\"out-padding\">12.50</span></td><td class=\"ds-w-0 ds-whitespace-nowrap ds-min-w-max ds-text-right ds-capitalize ds-text-right\"><span class=\"out-padding\">-</span></td><td class=\"ds-w-0 ds-whitespace-nowrap ds-min-w-max ds-text-right ds-capitalize ds-text-right\"><span class=\"out-padding\">0</span></td><td class=\"ds-w-0 ds-whitespace-nowrap ds-min-w-max ds-text-right ds-capitalize ds-text-right\"><span class=\"out-padding\">0</span></td><td class=\"ds-w-0 ds-whitespace-nowrap ds-min-w-max ds-text-right ds-capitalize ds-text-right\"><span class=\"out-padding\">0</span></td></tr></tbody></table>"
      ]
     },
     "execution_count": 3,
     "metadata": {},
     "output_type": "execute_result"
    }
   ],
   "source": [
    "data=soup.find_all(\"table\")\n",
    "len(data)\n",
    "data[1]"
   ]
  },
  {
   "cell_type": "code",
   "execution_count": 4,
   "metadata": {},
   "outputs": [
    {
     "data": {
      "text/plain": [
       "['Format',\n",
       " 'Mat',\n",
       " 'Inns',\n",
       " 'NO',\n",
       " 'Runs',\n",
       " 'HS',\n",
       " 'Ave',\n",
       " 'BF',\n",
       " 'SR',\n",
       " '100s',\n",
       " '50s',\n",
       " '4s',\n",
       " '6s',\n",
       " 'Ct',\n",
       " 'St']"
      ]
     },
     "execution_count": 4,
     "metadata": {},
     "output_type": "execute_result"
    }
   ],
   "source": [
    "col=[]\n",
    "for i in data[0].find('tr').find_all('th'):\n",
    "    col.append(i.text)\n",
    "length=len(col)\n",
    "col"
   ]
  },
  {
   "cell_type": "code",
   "execution_count": 5,
   "metadata": {},
   "outputs": [
    {
     "data": {
      "text/plain": [
       "90"
      ]
     },
     "execution_count": 5,
     "metadata": {},
     "output_type": "execute_result"
    }
   ],
   "source": [
    "table=data[0].find_all('td') \n",
    "#table[0].find_all('td')\n",
    "len(table)"
   ]
  },
  {
   "cell_type": "code",
   "execution_count": 6,
   "metadata": {},
   "outputs": [
    {
     "data": {
      "text/plain": [
       "[['Test',\n",
       "  '90',\n",
       "  '144',\n",
       "  '16',\n",
       "  '4876',\n",
       "  '224',\n",
       "  '38.09',\n",
       "  '8249',\n",
       "  '59.11',\n",
       "  '6',\n",
       "  '33',\n",
       "  '544',\n",
       "  '78',\n",
       "  '256',\n",
       "  '38'],\n",
       " ['ODI',\n",
       "  '350',\n",
       "  '297',\n",
       "  '84',\n",
       "  '10773',\n",
       "  '183*',\n",
       "  '50.57',\n",
       "  '12303',\n",
       "  '87.56',\n",
       "  '10',\n",
       "  '73',\n",
       "  '826',\n",
       "  '229',\n",
       "  '321',\n",
       "  '123'],\n",
       " ['T20I',\n",
       "  '98',\n",
       "  '85',\n",
       "  '42',\n",
       "  '1617',\n",
       "  '56',\n",
       "  '37.60',\n",
       "  '1282',\n",
       "  '126.13',\n",
       "  '0',\n",
       "  '2',\n",
       "  '116',\n",
       "  '52',\n",
       "  '57',\n",
       "  '34'],\n",
       " ['FC',\n",
       "  '131',\n",
       "  '210',\n",
       "  '19',\n",
       "  '7038',\n",
       "  '224',\n",
       "  '36.84',\n",
       "  '-',\n",
       "  '-',\n",
       "  '9',\n",
       "  '47',\n",
       "  '-',\n",
       "  '-',\n",
       "  '364',\n",
       "  '57'],\n",
       " ['List A',\n",
       "  '423',\n",
       "  '364',\n",
       "  '99',\n",
       "  '13353',\n",
       "  '183*',\n",
       "  '50.38',\n",
       "  '-',\n",
       "  '-',\n",
       "  '17',\n",
       "  '87',\n",
       "  '-',\n",
       "  '-',\n",
       "  '402',\n",
       "  '141'],\n",
       " ['T20',\n",
       "  '361',\n",
       "  '319',\n",
       "  '131',\n",
       "  '7167',\n",
       "  '84*',\n",
       "  '38.12',\n",
       "  '5349',\n",
       "  '133.98',\n",
       "  '0',\n",
       "  '28',\n",
       "  '500',\n",
       "  '315',\n",
       "  '207',\n",
       "  '84']]"
      ]
     },
     "execution_count": 6,
     "metadata": {},
     "output_type": "execute_result"
    }
   ],
   "source": [
    "l=length\n",
    "table_list=[]\n",
    "temp=[]\n",
    "i=1\n",
    "while(i<=len(table)):\n",
    "    if(i%l==0):\n",
    "        temp.append(table[i-1].text)\n",
    "        table_list.append(temp)\n",
    "        temp=[]\n",
    "    else:\n",
    "         temp.append(table[i-1].text)\n",
    "    i=i+1\n",
    "table_list"
   ]
  },
  {
   "cell_type": "code",
   "execution_count": 13,
   "metadata": {},
   "outputs": [],
   "source": [
    "df=pd.DataFrame(table_list,columns=col)\n",
    "df=df.set_index(\"Format\")\n",
    "df1=df.loc[\"Test\"]"
   ]
  },
  {
   "cell_type": "code",
   "execution_count": 21,
   "metadata": {},
   "outputs": [
    {
     "data": {
      "text/plain": [
       "Mat        90\n",
       "Inns      144\n",
       "NO         16\n",
       "Runs     4876\n",
       "HS        224\n",
       "Ave     38.09\n",
       "BF       8249\n",
       "SR      59.11\n",
       "100s        6\n",
       "50s        33\n",
       "4s        544\n",
       "6s         78\n",
       "Ct        256\n",
       "St         38\n",
       "Name: Test, dtype: object"
      ]
     },
     "execution_count": 21,
     "metadata": {},
     "output_type": "execute_result"
    }
   ],
   "source": []
  },
  {
   "cell_type": "code",
   "execution_count": 20,
   "metadata": {},
   "outputs": [],
   "source": [
    "with open('D:\\web scraping\\event.csv', 'a') as f_object:\n",
    " \n",
    "    writer_object = writer(f_object)\n",
    " \n",
    "    # Pass the list as an argument into\n",
    "    # the writerow()\n",
    "    writer_object.writerow(df3)\n",
    " \n",
    "    # Close the file object\n",
    "    f_object.close()"
   ]
  }
 ],
 "metadata": {
  "kernelspec": {
   "display_name": "Python 3",
   "language": "python",
   "name": "python3"
  },
  "language_info": {
   "codemirror_mode": {
    "name": "ipython",
    "version": 3
   },
   "file_extension": ".py",
   "mimetype": "text/x-python",
   "name": "python",
   "nbconvert_exporter": "python",
   "pygments_lexer": "ipython3",
   "version": "3.10.2"
  },
  "orig_nbformat": 4,
  "vscode": {
   "interpreter": {
    "hash": "abe4cc62e71efd28026365d4753af26f60158fdd257900fb3e00a4964f4677fe"
   }
  }
 },
 "nbformat": 4,
 "nbformat_minor": 2
}
